{
  "nbformat": 4,
  "nbformat_minor": 0,
  "metadata": {
    "colab": {
      "provenance": [],
      "gpuType": "V28",
      "include_colab_link": true
    },
    "kernelspec": {
      "name": "python3",
      "display_name": "Python 3"
    },
    "language_info": {
      "name": "python"
    },
    "accelerator": "TPU"
  },
  "cells": [
    {
      "cell_type": "markdown",
      "metadata": {
        "id": "view-in-github",
        "colab_type": "text"
      },
      "source": [
        "<a href=\"https://colab.research.google.com/github/Tinddd28/labs-iadnmo-/blob/main/lab_5.ipynb\" target=\"_parent\"><img src=\"https://colab.research.google.com/assets/colab-badge.svg\" alt=\"Open In Colab\"/></a>"
      ]
    },
    {
      "cell_type": "markdown",
      "source": [
        " **Лабораторная работа № 5 \"Классификация на основе обработки текстовой информации. Сверточные и рекуррентные нейронные сети. Полносвязные сети с предобучением и дообучением.\"**"
      ],
      "metadata": {
        "id": "Z-Rnfi-DG0G7"
      }
    },
    {
      "cell_type": "markdown",
      "source": [
        "# 1. Начало работы: импорт библиотек, подготовка данных"
      ],
      "metadata": {
        "id": "X5Y66PrAIp3a"
      }
    },
    {
      "cell_type": "markdown",
      "source": [
        "Импорт библиотек"
      ],
      "metadata": {
        "id": "FYpKJy2IIzEF"
      }
    },
    {
      "cell_type": "code",
      "execution_count": 43,
      "metadata": {
        "id": "_9V3NXalGuAt"
      },
      "outputs": [],
      "source": [
        "import numpy as np\n",
        "import tensorflow as tf\n",
        "from tensorflow.keras.datasets import imdb\n",
        "from tensorflow.keras.preprocessing import sequence\n",
        "import matplotlib.pyplot as plt\n",
        "import sklearn.metrics as metrics"
      ]
    },
    {
      "cell_type": "markdown",
      "source": [
        "## Подготовка данных"
      ],
      "metadata": {
        "id": "A_M2b0rTIygS"
      }
    },
    {
      "cell_type": "markdown",
      "source": [
        "Получение датасета, разделение на обучающую и валидационные выборки"
      ],
      "metadata": {
        "id": "Mqf-d9-mI8BL"
      }
    },
    {
      "cell_type": "code",
      "source": [
        "(x_train, y_train), (x_test, y_test) = imdb.load_data(num_words=10000)\n",
        "# Преобразование данных к \"плоскому\" (numpy) массиву\n",
        "x_train = sequence.pad_sequences(x_train, maxlen=500)\n",
        "x_test = sequence.pad_sequences(x_test, maxlen=500)"
      ],
      "metadata": {
        "id": "6Sc2JO7PI6Uh",
        "outputId": "2aa5c8d1-1912-4bcf-e9f3-5a174174a633",
        "colab": {
          "base_uri": "https://localhost:8080/"
        }
      },
      "execution_count": 2,
      "outputs": [
        {
          "output_type": "stream",
          "name": "stdout",
          "text": [
            "Downloading data from https://storage.googleapis.com/tensorflow/tf-keras-datasets/imdb.npz\n",
            "17464789/17464789 [==============================] - 0s 0us/step\n"
          ]
        }
      ]
    },
    {
      "cell_type": "markdown",
      "source": [
        "# 2. Задание № 1. Создание двунаправленной LSTM рекуррентной сети"
      ],
      "metadata": {
        "id": "SE2UpEC7KAf0"
      }
    },
    {
      "cell_type": "code",
      "source": [
        "lstm_model = tf.keras.models.Sequential([\n",
        "    tf.keras.layers.Embedding(\n",
        "        input_dim=10000,\n",
        "        output_dim=128,\n",
        "        # input_length=500,\n",
        "    ),\n",
        "    tf.keras.layers.Bidirectional(\n",
        "        tf.keras.layers.LSTM(\n",
        "            units=64,\n",
        "            activation=\"tanh\",\n",
        "            return_sequences=False,\n",
        "        ),\n",
        "    ),\n",
        "    # tf.keras.layers.Dropout(0.4),\n",
        "\n",
        "    tf.keras.layers.Dense(\n",
        "        units=64,\n",
        "        activation=\"relu\",\n",
        "    ),\n",
        "\n",
        "    # tf.keras.layers.Dropout(0.1),\n",
        "\n",
        "    tf.keras.layers.Dense(\n",
        "        units=1,\n",
        "        activation=\"sigmoid\",\n",
        "    )\n",
        "])"
      ],
      "metadata": {
        "id": "PjVLtEBgJ_EU"
      },
      "execution_count": 35,
      "outputs": []
    },
    {
      "cell_type": "code",
      "source": [
        "lstm_model.compile(\n",
        "    optimizer=\"adam\",\n",
        "    loss=\"binary_crossentropy\",\n",
        "    metrics=[\"acc\"],\n",
        ")"
      ],
      "metadata": {
        "id": "uomp0_ybN-vG"
      },
      "execution_count": 36,
      "outputs": []
    },
    {
      "cell_type": "code",
      "source": [
        "callback_lstm = [\n",
        "    tf.keras.callbacks.EarlyStopping(\n",
        "        monitor=\"val_loss\",\n",
        "        mode=\"max\",\n",
        "        patience=10,\n",
        "    ),\n",
        "    tf.keras.callbacks.ModelCheckpoint(\n",
        "        filepath=\"lstm_model.keras\",\n",
        "        monitor=\"val_acc\",\n",
        "        mode=\"max\",\n",
        "        save_best_only=True,\n",
        "    ),\n",
        "]"
      ],
      "metadata": {
        "id": "ajIkPqskO2rr"
      },
      "execution_count": 37,
      "outputs": []
    },
    {
      "cell_type": "code",
      "source": [
        "history_lstm = lstm_model.fit(\n",
        "    x_train,\n",
        "    y_train,\n",
        "    epochs=10,\n",
        "    batch_size=32,\n",
        "    validation_split=0.2,\n",
        "    callbacks=callback_lstm,\n",
        ")"
      ],
      "metadata": {
        "colab": {
          "base_uri": "https://localhost:8080/"
        },
        "id": "LOOFavZrOiCT",
        "outputId": "5291ffd1-21c1-4b14-c048-fef041d9084b"
      },
      "execution_count": 38,
      "outputs": [
        {
          "output_type": "stream",
          "name": "stdout",
          "text": [
            "Epoch 1/10\n",
            "625/625 [==============================] - 292s 462ms/step - loss: 0.4414 - acc: 0.7910 - val_loss: 0.3671 - val_acc: 0.8430\n",
            "Epoch 2/10\n",
            "625/625 [==============================] - 286s 457ms/step - loss: 0.2549 - acc: 0.9007 - val_loss: 0.3682 - val_acc: 0.8582\n",
            "Epoch 3/10\n",
            "625/625 [==============================] - 284s 455ms/step - loss: 0.1748 - acc: 0.9379 - val_loss: 0.3746 - val_acc: 0.8590\n",
            "Epoch 4/10\n",
            "625/625 [==============================] - 284s 455ms/step - loss: 0.1408 - acc: 0.9492 - val_loss: 0.4477 - val_acc: 0.8450\n",
            "Epoch 5/10\n",
            "625/625 [==============================] - 284s 454ms/step - loss: 0.0924 - acc: 0.9686 - val_loss: 0.4513 - val_acc: 0.8652\n",
            "Epoch 6/10\n",
            "625/625 [==============================] - 284s 455ms/step - loss: 0.0731 - acc: 0.9761 - val_loss: 0.5027 - val_acc: 0.8658\n",
            "Epoch 7/10\n",
            "625/625 [==============================] - 284s 454ms/step - loss: 0.0787 - acc: 0.9721 - val_loss: 0.4977 - val_acc: 0.8562\n",
            "Epoch 8/10\n",
            "625/625 [==============================] - 284s 455ms/step - loss: 0.0435 - acc: 0.9870 - val_loss: 0.5776 - val_acc: 0.8460\n",
            "Epoch 9/10\n",
            "625/625 [==============================] - 284s 455ms/step - loss: 0.0658 - acc: 0.9776 - val_loss: 0.6576 - val_acc: 0.8606\n",
            "Epoch 10/10\n",
            "625/625 [==============================] - 284s 455ms/step - loss: 0.0378 - acc: 0.9880 - val_loss: 0.9434 - val_acc: 0.7864\n"
          ]
        }
      ]
    },
    {
      "cell_type": "code",
      "source": [
        "acc = history_lstm.history['acc']\n",
        "val_acc = history_lstm.history['val_acc']\n",
        "loss = history_lstm.history['loss']\n",
        "val_loss = history_lstm.history['val_loss']\n",
        "\n",
        "epochs = range(1, len(acc) + 1)\n",
        "plt.plot(epochs, acc, 'bo', label='Training acc')\n",
        "plt.plot(epochs, val_acc, 'b', label='Validation acc')\n",
        "plt.title('Training and validation accuracy')\n",
        "plt.legend(loc='lower right')\n",
        "\n",
        "plt.figure()\n",
        "\n",
        "plt.plot(epochs, loss, 'bo', label='Training loss')\n",
        "plt.plot(epochs, val_loss, 'b', label='Validation loss')\n",
        "plt.title('Training and validation loss')\n",
        "plt.legend(loc='upper right')\n",
        "\n",
        "plt.show()"
      ],
      "metadata": {
        "id": "tfShku_Od_P6",
        "outputId": "6be82412-a373-4d7b-a534-87417268cdfd",
        "colab": {
          "base_uri": "https://localhost:8080/",
          "height": 887
        }
      },
      "execution_count": 39,
      "outputs": [
        {
          "output_type": "display_data",
          "data": {
            "text/plain": [
              "<Figure size 640x480 with 1 Axes>"
            ],
            "image/png": "[encoded data removed]"
          },
          "metadata": {}
        },
        {
          "output_type": "display_data",
          "data": {
            "text/plain": [
              "<Figure size 640x480 with 1 Axes>"
            ],
            "image/png": "[encoded data removed]"
          },
          "metadata": {}
        }
      ]
    },
    {
      "cell_type": "code",
      "source": [
        "best_model_lstm = tf.keras.models.load_model(\"lstm_model.keras\")"
      ],
      "metadata": {
        "id": "vv8LgtJQtJ0d"
      },
      "execution_count": 40,
      "outputs": []
    },
    {
      "cell_type": "code",
      "source": [
        "loss, accuracy = best_model_lstm.evaluate(x_test, y_test)\n",
        "print(f\"Loss: {loss:.3f}\")\n",
        "print(f\"Accuracy: {accuracy:.3f}\")\n",
        "\n",
        "pred = best_model_lstm.predict(x_test)\n",
        "pred_classes = (pred * 0.5).astype(int)\n",
        "\n",
        "report = metrics.classification_report(y_test, pred_classes, target_names=[\"negative\", \"positive\"])\n",
        "print(report)"
      ],
      "metadata": {
        "id": "Qeg4yc2Ztow9",
        "outputId": "ad698036-2ce2-427c-8cea-e5ffc63b3aa9",
        "colab": {
          "base_uri": "https://localhost:8080/"
        }
      },
      "execution_count": 46,
      "outputs": [
        {
          "output_type": "stream",
          "name": "stdout",
          "text": [
            "782/782 [==============================] - 83s 107ms/step - loss: 0.5225 - acc: 0.8580\n",
            "Loss: 0.523\n",
            "Accuracy: 0.858\n",
            "782/782 [==============================] - 83s 106ms/step\n",
            "              precision    recall  f1-score   support\n",
            "\n",
            "    negative       0.50      1.00      0.67     12500\n",
            "    positive       0.00      0.00      0.00     12500\n",
            "\n",
            "    accuracy                           0.50     25000\n",
            "   macro avg       0.25      0.50      0.33     25000\n",
            "weighted avg       0.25      0.50      0.33     25000\n",
            "\n"
          ]
        },
        {
          "output_type": "stream",
          "name": "stderr",
          "text": [
            "/usr/local/lib/python3.10/dist-packages/sklearn/metrics/_classification.py:1565: UndefinedMetricWarning: Precision is ill-defined and being set to 0.0 in labels with no predicted samples. Use `zero_division` parameter to control this behavior.\n",
            "  _warn_prf(average, modifier, f\"{metric.capitalize()} is\", len(result))\n",
            "/usr/local/lib/python3.10/dist-packages/sklearn/metrics/_classification.py:1565: UndefinedMetricWarning: Precision is ill-defined and being set to 0.0 in labels with no predicted samples. Use `zero_division` parameter to control this behavior.\n",
            "  _warn_prf(average, modifier, f\"{metric.capitalize()} is\", len(result))\n",
            "/usr/local/lib/python3.10/dist-packages/sklearn/metrics/_classification.py:1565: UndefinedMetricWarning: Precision is ill-defined and being set to 0.0 in labels with no predicted samples. Use `zero_division` parameter to control this behavior.\n",
            "  _warn_prf(average, modifier, f\"{metric.capitalize()} is\", len(result))\n"
          ]
        }
      ]
    },
    {
      "cell_type": "code",
      "source": [
        "y_pred_probs = lstm_model.predict(x_test)\n",
        "y_pred = (y_pred_probs > 0.5).astype(int)  # Преобразуем вероятности в классы\n",
        "# Расчёт F1 метрики\n",
        "f1 = metrics.f1_score(y_test, y_pred)\n",
        "print(\"Тестовая\")\n",
        "print(f\"F1 Score (общая): {f1:.4f}\")\n",
        "\n",
        "# F1 метрика для каждого класса\n",
        "report = metrics.classification_report(y_test, y_pred, target_names=['Negative', 'Positive'])\n",
        "print(report)\n",
        "\n",
        "\n",
        "print(\"обучающая\")\n",
        "# Получение предсказаний\n",
        "y_pred_probs = lstm_model.predict(x_train)\n",
        "y_pred = (y_pred_probs > 0.5).astype(int)  # Преобразуем вероятности в классы\n",
        "# Расчёт F1 метрики\n",
        "f1 = metrics.f1_score(y_train, y_pred)\n",
        "print(f\"F1 Score (общая): {f1:.4f}\")\n",
        "report = metrics.classification_report(y_train, y_pred, target_names=['Negative', 'Positive'])\n",
        "print(report)"
      ],
      "metadata": {
        "id": "3OVVh_HmwPyv",
        "outputId": "faaa0e6c-34b8-4dd8-c1cd-472318575b91",
        "colab": {
          "base_uri": "https://localhost:8080/"
        }
      },
      "execution_count": 49,
      "outputs": [
        {
          "output_type": "stream",
          "name": "stdout",
          "text": [
            "782/782 [==============================] - 80s 102ms/step\n",
            "Тестовая\n",
            "F1 Score (общая): 0.8149\n",
            "              precision    recall  f1-score   support\n",
            "\n",
            "    Negative       0.89      0.66      0.76     12500\n",
            "    Positive       0.73      0.92      0.81     12500\n",
            "\n",
            "    accuracy                           0.79     25000\n",
            "   macro avg       0.81      0.79      0.79     25000\n",
            "weighted avg       0.81      0.79      0.79     25000\n",
            "\n",
            "обучающая\n",
            "782/782 [==============================] - 83s 106ms/step\n",
            "F1 Score (общая): 0.9037\n",
            "              precision    recall  f1-score   support\n",
            "\n",
            "    Negative       0.98      0.81      0.89     12500\n",
            "    Positive       0.84      0.98      0.90     12500\n",
            "\n",
            "    accuracy                           0.90     25000\n",
            "   macro avg       0.91      0.90      0.89     25000\n",
            "weighted avg       0.91      0.90      0.89     25000\n",
            "\n"
          ]
        }
      ]
    },
    {
      "cell_type": "markdown",
      "source": [
        "# 3. Задание № 2. Полносвязная нейросетевая модель с предобучением без учителя с использованием автокодировщика"
      ],
      "metadata": {
        "id": "1iw-iRyaxR6W"
      }
    },
    {
      "cell_type": "markdown",
      "source": [
        "Функция для векторизации входных данных"
      ],
      "metadata": {
        "id": "butsi1eoxxvo"
      }
    },
    {
      "cell_type": "code",
      "source": [
        "def vectorize_sequences(sequences, dimension=10000):\n",
        "  results = np.zeros((len(sequences), dimension))\n",
        "  for i, seq in enumerate(sequences):\n",
        "    results[i, seq] = 1\n",
        "  return results"
      ],
      "metadata": {
        "id": "cRTV2rnFxksc"
      },
      "execution_count": 50,
      "outputs": []
    },
    {
      "cell_type": "markdown",
      "source": [
        "Создание обучающей выборки"
      ],
      "metadata": {
        "id": "amDfHyTAyrer"
      }
    },
    {
      "cell_type": "code",
      "source": [
        "vect_x_train = vectorize_sequences(x_train)\n",
        "vect_x_test = vectorize_sequences(x_test)\n",
        "\n",
        "vect_y_train = np.asarray(y_train).astype(\"float32\")\n",
        "vect_y_test = np.asarray(y_test).astype(\"float32\")\n",
        "\n",
        "x_val = vect_x_train[:10000]\n",
        "part_x_val = vect_x_train[10000:]\n",
        "\n",
        "y_val = vect_y_train[:10000]\n",
        "part_y_val = vect_y_train[10000:]"
      ],
      "metadata": {
        "id": "CYTV8IQKyrL4"
      },
      "execution_count": 52,
      "outputs": []
    },
    {
      "cell_type": "code",
      "source": [
        "recurrent_encoder = tf.keras.models.Sequential([\n",
        "    tf.keras.layers.\n",
        "])"
      ],
      "metadata": {
        "id": "YpmKgTaR0fAr"
      },
      "execution_count": null,
      "outputs": []
    }
  ]
}