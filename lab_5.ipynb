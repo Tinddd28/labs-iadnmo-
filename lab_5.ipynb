{
  "nbformat": 4,
  "nbformat_minor": 0,
  "metadata": {
    "colab": {
      "provenance": [],
      "gpuType": "V28",
      "include_colab_link": true
    },
    "kernelspec": {
      "name": "python3",
      "display_name": "Python 3"
    },
    "language_info": {
      "name": "python"
    },
    "accelerator": "TPU"
  },
  "cells": [
    {
      "cell_type": "markdown",
      "metadata": {
        "id": "view-in-github",
        "colab_type": "text"
      },
      "source": [
        "<a href=\"https://colab.research.google.com/github/Tinddd28/labs-iadnmo-/blob/main/lab_5.ipynb\" target=\"_parent\"><img src=\"https://colab.research.google.com/assets/colab-badge.svg\" alt=\"Open In Colab\"/></a>"
      ]
    },
    {
      "cell_type": "markdown",
      "source": [
        " **Лабораторная работа № 5 \"Классификация на основе обработки текстовой информации. Сверточные и рекуррентные нейронные сети. Полносвязные сети с предобучением и дообучением.\"**"
      ],
      "metadata": {
        "id": "Z-Rnfi-DG0G7"
      }
    },
    {
      "cell_type": "markdown",
      "source": [
        "# 1. Начало работы: импорт библиотек, подготовка данных"
      ],
      "metadata": {
        "id": "X5Y66PrAIp3a"
      }
    },
    {
      "cell_type": "markdown",
      "source": [
        "Импорт библиотек"
      ],
      "metadata": {
        "id": "FYpKJy2IIzEF"
      }
    },
    {
      "cell_type": "code",
      "execution_count": 1,
      "metadata": {
        "id": "_9V3NXalGuAt"
      },
      "outputs": [],
      "source": [
        "import numpy as np\n",
        "import tensorflow as tf\n",
        "from tensorflow.keras.datasets import imdb\n",
        "from tensorflow.keras.preprocessing import sequence\n",
        "import matplotlib.pyplot as plt\n",
        "import sklearn.metrics as metrics"
      ]
    },
    {
      "cell_type": "markdown",
      "source": [
        "## Подготовка данных"
      ],
      "metadata": {
        "id": "A_M2b0rTIygS"
      }
    },
    {
      "cell_type": "markdown",
      "source": [
        "Получение датасета, разделение на обучающую и валидационные выборки"
      ],
      "metadata": {
        "id": "Mqf-d9-mI8BL"
      }
    },
    {
      "cell_type": "code",
      "source": [
        "(x_train, y_train), (x_test, y_test) = imdb.load_data(num_words=10000)\n",
        "# Преобразование данных к \"плоскому\" (numpy) массиву\n",
        "x_train = sequence.pad_sequences(x_train, maxlen=500)\n",
        "x_test = sequence.pad_sequences(x_test, maxlen=500)"
      ],
      "metadata": {
        "id": "6Sc2JO7PI6Uh",
        "outputId": "21f76fab-bbb7-43c7-d3ab-fed9b9f49c01",
        "colab": {
          "base_uri": "https://localhost:8080/"
        }
      },
      "execution_count": 2,
      "outputs": [
        {
          "output_type": "stream",
          "name": "stdout",
          "text": [
            "Downloading data from https://storage.googleapis.com/tensorflow/tf-keras-datasets/imdb.npz\n",
            "17464789/17464789 [==============================] - 0s 0us/step\n"
          ]
        }
      ]
    },
    {
      "cell_type": "markdown",
      "source": [
        "# 2. Задание № 1. Создание двунаправленной LSTM рекуррентной сети"
      ],
      "metadata": {
        "id": "SE2UpEC7KAf0"
      }
    },
    {
      "cell_type": "code",
      "source": [
        "lstm_model = tf.keras.models.Sequential([\n",
        "    tf.keras.layers.Embedding(\n",
        "        input_dim=10000,\n",
        "        output_dim=128,\n",
        "        # input_length=500,\n",
        "    ),\n",
        "    tf.keras.layers.Bidirectional(\n",
        "        tf.keras.layers.LSTM(\n",
        "            units=64,\n",
        "            activation=\"tanh\",\n",
        "            return_sequences=False,\n",
        "        ),\n",
        "    ),\n",
        "    # tf.keras.layers.Dropout(0.4),\n",
        "\n",
        "    tf.keras.layers.Dense(\n",
        "        units=64,\n",
        "        activation=\"relu\",\n",
        "    ),\n",
        "\n",
        "    # tf.keras.layers.Dropout(0.1),\n",
        "\n",
        "    tf.keras.layers.Dense(\n",
        "        units=1,\n",
        "        activation=\"sigmoid\",\n",
        "    )\n",
        "])"
      ],
      "metadata": {
        "id": "PjVLtEBgJ_EU"
      },
      "execution_count": null,
      "outputs": []
    },
    {
      "cell_type": "code",
      "source": [
        "lstm_model.compile(\n",
        "    optimizer=\"adam\",\n",
        "    loss=\"binary_crossentropy\",\n",
        "    metrics=[\"acc\"],\n",
        ")"
      ],
      "metadata": {
        "id": "uomp0_ybN-vG"
      },
      "execution_count": null,
      "outputs": []
    },
    {
      "cell_type": "code",
      "source": [
        "callback_lstm = [\n",
        "    tf.keras.callbacks.EarlyStopping(\n",
        "        monitor=\"val_loss\",\n",
        "        mode=\"max\",\n",
        "        patience=10,\n",
        "    ),\n",
        "    tf.keras.callbacks.ModelCheckpoint(\n",
        "        filepath=\"lstm_model.keras\",\n",
        "        monitor=\"val_acc\",\n",
        "        mode=\"max\",\n",
        "        save_best_only=True,\n",
        "    ),\n",
        "]"
      ],
      "metadata": {
        "id": "ajIkPqskO2rr"
      },
      "execution_count": null,
      "outputs": []
    },
    {
      "cell_type": "code",
      "source": [
        "history_lstm = lstm_model.fit(\n",
        "    x_train,\n",
        "    y_train,\n",
        "    epochs=10,\n",
        "    batch_size=32,\n",
        "    validation_split=0.2,\n",
        "    callbacks=callback_lstm,\n",
        ")"
      ],
      "metadata": {
        "colab": {
          "base_uri": "https://localhost:8080/"
        },
        "id": "LOOFavZrOiCT",
        "outputId": "5291ffd1-21c1-4b14-c048-fef041d9084b"
      },
      "execution_count": null,
      "outputs": [
        {
          "output_type": "stream",
          "name": "stdout",
          "text": [
            "Epoch 1/10\n",
            "625/625 [==============================] - 292s 462ms/step - loss: 0.4414 - acc: 0.7910 - val_loss: 0.3671 - val_acc: 0.8430\n",
            "Epoch 2/10\n",
            "625/625 [==============================] - 286s 457ms/step - loss: 0.2549 - acc: 0.9007 - val_loss: 0.3682 - val_acc: 0.8582\n",
            "Epoch 3/10\n",
            "625/625 [==============================] - 284s 455ms/step - loss: 0.1748 - acc: 0.9379 - val_loss: 0.3746 - val_acc: 0.8590\n",
            "Epoch 4/10\n",
            "625/625 [==============================] - 284s 455ms/step - loss: 0.1408 - acc: 0.9492 - val_loss: 0.4477 - val_acc: 0.8450\n",
            "Epoch 5/10\n",
            "625/625 [==============================] - 284s 454ms/step - loss: 0.0924 - acc: 0.9686 - val_loss: 0.4513 - val_acc: 0.8652\n",
            "Epoch 6/10\n",
            "625/625 [==============================] - 284s 455ms/step - loss: 0.0731 - acc: 0.9761 - val_loss: 0.5027 - val_acc: 0.8658\n",
            "Epoch 7/10\n",
            "625/625 [==============================] - 284s 454ms/step - loss: 0.0787 - acc: 0.9721 - val_loss: 0.4977 - val_acc: 0.8562\n",
            "Epoch 8/10\n",
            "625/625 [==============================] - 284s 455ms/step - loss: 0.0435 - acc: 0.9870 - val_loss: 0.5776 - val_acc: 0.8460\n",
            "Epoch 9/10\n",
            "625/625 [==============================] - 284s 455ms/step - loss: 0.0658 - acc: 0.9776 - val_loss: 0.6576 - val_acc: 0.8606\n",
            "Epoch 10/10\n",
            "625/625 [==============================] - 284s 455ms/step - loss: 0.0378 - acc: 0.9880 - val_loss: 0.9434 - val_acc: 0.7864\n"
          ]
        }
      ]
    },
    {
      "cell_type": "code",
      "source": [
        "acc = history_lstm.history['acc']\n",
        "val_acc = history_lstm.history['val_acc']\n",
        "loss = history_lstm.history['loss']\n",
        "val_loss = history_lstm.history['val_loss']\n",
        "\n",
        "epochs = range(1, len(acc) + 1)\n",
        "plt.plot(epochs, acc, 'bo', label='Training acc')\n",
        "plt.plot(epochs, val_acc, 'b', label='Validation acc')\n",
        "plt.title('Training and validation accuracy')\n",
        "plt.legend(loc='lower right')\n",
        "\n",
        "plt.figure()\n",
        "\n",
        "plt.plot(epochs, loss, 'bo', label='Training loss')\n",
        "plt.plot(epochs, val_loss, 'b', label='Validation loss')\n",
        "plt.title('Training and validation loss')\n",
        "plt.legend(loc='upper right')\n",
        "\n",
        "plt.show()"
      ],
      "metadata": {
        "colab": {
          "base_uri": "https://localhost:8080/",
          "height": 887
        },
        "id": "tfShku_Od_P6",
        "outputId": "6be82412-a373-4d7b-a534-87417268cdfd"
      },
      "execution_count": null,
      "outputs": [
        {
          "output_type": "display_data",
          "data": {
            "text/plain": [
              "<Figure size 640x480 with 1 Axes>"
            ],
            "image/png": "[encoded data removed]"
          },
          "metadata": {}
        },
        {
          "output_type": "display_data",
          "data": {
            "text/plain": [
              "<Figure size 640x480 with 1 Axes>"
            ],
            "image/png": "[encoded data removed]"
          },
          "metadata": {}
        }
      ]
    },
    {
      "cell_type": "code",
      "source": [
        "best_model_lstm = tf.keras.models.load_model(\"lstm_model.keras\")"
      ],
      "metadata": {
        "id": "vv8LgtJQtJ0d"
      },
      "execution_count": null,
      "outputs": []
    },
    {
      "cell_type": "code",
      "source": [
        "loss, accuracy = best_model_lstm.evaluate(x_test, y_test)\n",
        "print(f\"Loss: {loss:.3f}\")\n",
        "print(f\"Accuracy: {accuracy:.3f}\")\n",
        "\n",
        "pred = best_model_lstm.predict(x_test)\n",
        "pred_classes = (pred * 0.5).astype(int)\n",
        "\n",
        "report = metrics.classification_report(y_test, pred_classes, target_names=[\"negative\", \"positive\"])\n",
        "print(report)"
      ],
      "metadata": {
        "colab": {
          "base_uri": "https://localhost:8080/"
        },
        "id": "Qeg4yc2Ztow9",
        "outputId": "ad698036-2ce2-427c-8cea-e5ffc63b3aa9"
      },
      "execution_count": null,
      "outputs": [
        {
          "output_type": "stream",
          "name": "stdout",
          "text": [
            "782/782 [==============================] - 83s 107ms/step - loss: 0.5225 - acc: 0.8580\n",
            "Loss: 0.523\n",
            "Accuracy: 0.858\n",
            "782/782 [==============================] - 83s 106ms/step\n",
            "              precision    recall  f1-score   support\n",
            "\n",
            "    negative       0.50      1.00      0.67     12500\n",
            "    positive       0.00      0.00      0.00     12500\n",
            "\n",
            "    accuracy                           0.50     25000\n",
            "   macro avg       0.25      0.50      0.33     25000\n",
            "weighted avg       0.25      0.50      0.33     25000\n",
            "\n"
          ]
        },
        {
          "output_type": "stream",
          "name": "stderr",
          "text": [
            "/usr/local/lib/python3.10/dist-packages/sklearn/metrics/_classification.py:1565: UndefinedMetricWarning: Precision is ill-defined and being set to 0.0 in labels with no predicted samples. Use `zero_division` parameter to control this behavior.\n",
            "  _warn_prf(average, modifier, f\"{metric.capitalize()} is\", len(result))\n",
            "/usr/local/lib/python3.10/dist-packages/sklearn/metrics/_classification.py:1565: UndefinedMetricWarning: Precision is ill-defined and being set to 0.0 in labels with no predicted samples. Use `zero_division` parameter to control this behavior.\n",
            "  _warn_prf(average, modifier, f\"{metric.capitalize()} is\", len(result))\n",
            "/usr/local/lib/python3.10/dist-packages/sklearn/metrics/_classification.py:1565: UndefinedMetricWarning: Precision is ill-defined and being set to 0.0 in labels with no predicted samples. Use `zero_division` parameter to control this behavior.\n",
            "  _warn_prf(average, modifier, f\"{metric.capitalize()} is\", len(result))\n"
          ]
        }
      ]
    },
    {
      "cell_type": "code",
      "source": [
        "y_pred_probs = lstm_model.predict(x_test)\n",
        "y_pred = (y_pred_probs > 0.5).astype(int)  # Преобразуем вероятности в классы\n",
        "# Расчёт F1 метрики\n",
        "f1 = metrics.f1_score(y_test, y_pred)\n",
        "print(\"Тестовая\")\n",
        "print(f\"F1 Score (общая): {f1:.4f}\")\n",
        "\n",
        "# F1 метрика для каждого класса\n",
        "report = metrics.classification_report(y_test, y_pred, target_names=['Negative', 'Positive'])\n",
        "print(report)\n",
        "\n",
        "\n",
        "print(\"обучающая\")\n",
        "# Получение предсказаний\n",
        "y_pred_probs = lstm_model.predict(x_train)\n",
        "y_pred = (y_pred_probs > 0.5).astype(int)  # Преобразуем вероятности в классы\n",
        "# Расчёт F1 метрики\n",
        "f1 = metrics.f1_score(y_train, y_pred)\n",
        "print(f\"F1 Score (общая): {f1:.4f}\")\n",
        "report = metrics.classification_report(y_train, y_pred, target_names=['Negative', 'Positive'])\n",
        "print(report)"
      ],
      "metadata": {
        "colab": {
          "base_uri": "https://localhost:8080/"
        },
        "id": "3OVVh_HmwPyv",
        "outputId": "faaa0e6c-34b8-4dd8-c1cd-472318575b91"
      },
      "execution_count": null,
      "outputs": [
        {
          "output_type": "stream",
          "name": "stdout",
          "text": [
            "782/782 [==============================] - 80s 102ms/step\n",
            "Тестовая\n",
            "F1 Score (общая): 0.8149\n",
            "              precision    recall  f1-score   support\n",
            "\n",
            "    Negative       0.89      0.66      0.76     12500\n",
            "    Positive       0.73      0.92      0.81     12500\n",
            "\n",
            "    accuracy                           0.79     25000\n",
            "   macro avg       0.81      0.79      0.79     25000\n",
            "weighted avg       0.81      0.79      0.79     25000\n",
            "\n",
            "обучающая\n",
            "782/782 [==============================] - 83s 106ms/step\n",
            "F1 Score (общая): 0.9037\n",
            "              precision    recall  f1-score   support\n",
            "\n",
            "    Negative       0.98      0.81      0.89     12500\n",
            "    Positive       0.84      0.98      0.90     12500\n",
            "\n",
            "    accuracy                           0.90     25000\n",
            "   macro avg       0.91      0.90      0.89     25000\n",
            "weighted avg       0.91      0.90      0.89     25000\n",
            "\n"
          ]
        }
      ]
    },
    {
      "cell_type": "markdown",
      "source": [
        "# 3. Задание № 2. Полносвязная нейросетевая модель с предобучением без учителя с использованием автокодировщика"
      ],
      "metadata": {
        "id": "1iw-iRyaxR6W"
      }
    },
    {
      "cell_type": "markdown",
      "source": [
        "Функция для векторизации входных данных"
      ],
      "metadata": {
        "id": "butsi1eoxxvo"
      }
    },
    {
      "cell_type": "code",
      "source": [
        "def vectorize_sequences(sequences, dimension=10000):\n",
        "  results = np.zeros((len(sequences), dimension))\n",
        "  for i, seq in enumerate(sequences):\n",
        "    results[i, seq] = 1\n",
        "  return results"
      ],
      "metadata": {
        "id": "cRTV2rnFxksc"
      },
      "execution_count": 3,
      "outputs": []
    },
    {
      "cell_type": "markdown",
      "source": [
        "Создание обучающей выборки"
      ],
      "metadata": {
        "id": "amDfHyTAyrer"
      }
    },
    {
      "cell_type": "code",
      "source": [
        "vect_x_train = vectorize_sequences(x_train)\n",
        "vect_x_test = vectorize_sequences(x_test)\n",
        "\n",
        "vect_y_train = np.asarray(y_train).astype(\"float32\")\n",
        "vect_y_test = np.asarray(y_test).astype(\"float32\")\n",
        "\n",
        "x_val = vect_x_train[:10000]\n",
        "part_x_train = vect_x_train[10000:]\n",
        "\n",
        "y_val = vect_y_train[:10000]\n",
        "part_y_train = vect_y_train[10000:]"
      ],
      "metadata": {
        "id": "CYTV8IQKyrL4"
      },
      "execution_count": 4,
      "outputs": []
    },
    {
      "cell_type": "code",
      "source": [
        "input_dim = part_x_train.shape[1]\n",
        "timesteps = 1  # Используем 1 временной шаг для упрощения\n",
        "\n",
        "# Преобразуем входные данные в трехмерный формат для работы с LSTM\n",
        "part_x_train_3d = part_x_train.reshape(part_x_train.shape[0], timesteps, input_dim)\n",
        "x_val_3d = x_val.reshape(x_val.shape[0], timesteps, input_dim)\n",
        "vect_x_test_3d = vect_x_test.reshape(vect_x_test.shape[0], timesteps, input_dim)\n",
        "\n",
        "# Создаем модель автокодировщика\n",
        "autoencoder = tf.keras.models.Sequential()\n",
        "\n",
        "# Кодировщик\n",
        "autoencoder.add(tf.keras.layers.LSTM(128, activation=\"relu\", input_shape=(timesteps, input_dim), return_sequences=False))\n",
        "autoencoder.add(tf.keras.layers.Dense(64, activation=\"relu\"))  # Латентное представление\n",
        "\n",
        "# Декодировщик\n",
        "autoencoder.add(tf.keras.layers.RepeatVector(timesteps))  # Повторение временных шагов\n",
        "autoencoder.add(tf.keras.layers.LSTM(128, activation=\"relu\", return_sequences=True))\n",
        "autoencoder.add(tf.keras.layers.TimeDistributed(tf.keras.layers.Dense(input_dim, activation=\"sigmoid\")))"
      ],
      "metadata": {
        "id": "YpmKgTaR0fAr"
      },
      "execution_count": 5,
      "outputs": []
    },
    {
      "cell_type": "code",
      "source": [
        "autoencoder.compile(\n",
        "    optimizer=\"adam\",\n",
        "    loss=\"binary_crossentropy\",\n",
        "    metrics=[\"acc\"],\n",
        ")\n",
        "\n",
        "autoencoder.summary()"
      ],
      "metadata": {
        "id": "8MTcGoXC6NYf",
        "outputId": "54a07b1a-7f2d-4cf7-b41b-cddd4be5886f",
        "colab": {
          "base_uri": "https://localhost:8080/"
        }
      },
      "execution_count": 6,
      "outputs": [
        {
          "output_type": "stream",
          "name": "stdout",
          "text": [
            "Model: \"sequential\"\n",
            "_________________________________________________________________\n",
            " Layer (type)                Output Shape              Param #   \n",
            "=================================================================\n",
            " lstm (LSTM)                 (None, 128)               5186048   \n",
            "                                                                 \n",
            " dense (Dense)               (None, 64)                8256      \n",
            "                                                                 \n",
            " repeat_vector (RepeatVecto  (None, 1, 64)             0         \n",
            " r)                                                              \n",
            "                                                                 \n",
            " lstm_1 (LSTM)               (None, 1, 128)            98816     \n",
            "                                                                 \n",
            " time_distributed (TimeDist  (None, 1, 10000)          1290000   \n",
            " ributed)                                                        \n",
            "                                                                 \n",
            "=================================================================\n",
            "Total params: 6583120 (25.11 MB)\n",
            "Trainable params: 6583120 (25.11 MB)\n",
            "Non-trainable params: 0 (0.00 Byte)\n",
            "_________________________________________________________________\n"
          ]
        }
      ]
    },
    {
      "cell_type": "code",
      "source": [
        "callback = [\n",
        "    tf.keras.callbacks.EarlyStopping(\n",
        "        monitor=\"val_acc\",\n",
        "        mode=\"max\",\n",
        "        patience=20,\n",
        "    ),\n",
        "    tf.keras.callbacks.ModelCheckpoint(\n",
        "        filepath=\"autoencoder.keras\",\n",
        "        monitor=\"val_acc\",\n",
        "        mode=\"max\",\n",
        "        save_best_only=True,\n",
        "    )\n",
        "]"
      ],
      "metadata": {
        "id": "9_4remez6vA7"
      },
      "execution_count": 7,
      "outputs": []
    },
    {
      "cell_type": "code",
      "source": [
        "ae_history = autoencoder.fit(\n",
        "    part_x_train_3d,\n",
        "    part_x_train_3d,\n",
        "    epochs=100,\n",
        "    batch_size=64,\n",
        "    validation_data=(x_val_3d, x_val_3d),\n",
        "    callbacks=callback,\n",
        ")"
      ],
      "metadata": {
        "id": "JaicFhTq-YB9",
        "outputId": "18e68c68-3e95-4035-dce1-5e319de304f4",
        "colab": {
          "base_uri": "https://localhost:8080/"
        }
      },
      "execution_count": 8,
      "outputs": [
        {
          "output_type": "stream",
          "name": "stdout",
          "text": [
            "Epoch 1/100\n",
            "235/235 [==============================] - 71s 291ms/step - loss: 0.1371 - acc: 0.1169 - val_loss: 0.0434 - val_acc: 0.2087\n",
            "Epoch 2/100\n",
            "235/235 [==============================] - 64s 275ms/step - loss: 0.0431 - acc: 0.2892 - val_loss: 0.0429 - val_acc: 0.3454\n",
            "Epoch 3/100\n",
            "235/235 [==============================] - 64s 272ms/step - loss: 0.0427 - acc: 0.4048 - val_loss: 0.0427 - val_acc: 0.4161\n",
            "Epoch 4/100\n",
            "235/235 [==============================] - 64s 273ms/step - loss: 0.0424 - acc: 0.4833 - val_loss: 0.0424 - val_acc: 0.4897\n",
            "Epoch 5/100\n",
            "235/235 [==============================] - 64s 271ms/step - loss: 0.0421 - acc: 0.5195 - val_loss: 0.0421 - val_acc: 0.5445\n",
            "Epoch 6/100\n",
            "235/235 [==============================] - 64s 272ms/step - loss: 0.0417 - acc: 0.5282 - val_loss: 0.0418 - val_acc: 0.4865\n",
            "Epoch 7/100\n",
            "235/235 [==============================] - 65s 275ms/step - loss: 0.0413 - acc: 0.4935 - val_loss: 0.0415 - val_acc: 0.5256\n",
            "Epoch 8/100\n",
            "235/235 [==============================] - 64s 272ms/step - loss: 0.0410 - acc: 0.4825 - val_loss: 0.0413 - val_acc: 0.4768\n",
            "Epoch 9/100\n",
            "235/235 [==============================] - 64s 273ms/step - loss: 0.0407 - acc: 0.4827 - val_loss: 0.0412 - val_acc: 0.4954\n",
            "Epoch 10/100\n",
            "235/235 [==============================] - 64s 271ms/step - loss: 0.0404 - acc: 0.5082 - val_loss: 0.0409 - val_acc: 0.4976\n",
            "Epoch 11/100\n",
            "235/235 [==============================] - 64s 272ms/step - loss: 0.0401 - acc: 0.5105 - val_loss: 0.0407 - val_acc: 0.5767\n",
            "Epoch 12/100\n",
            "235/235 [==============================] - 64s 271ms/step - loss: 0.0397 - acc: 0.4983 - val_loss: 0.0406 - val_acc: 0.5334\n",
            "Epoch 13/100\n",
            "235/235 [==============================] - 63s 270ms/step - loss: 0.0395 - acc: 0.4955 - val_loss: 0.0404 - val_acc: 0.5304\n",
            "Epoch 14/100\n",
            "235/235 [==============================] - 64s 271ms/step - loss: 0.0392 - acc: 0.5096 - val_loss: 0.0403 - val_acc: 0.5602\n",
            "Epoch 15/100\n",
            "235/235 [==============================] - 63s 268ms/step - loss: 0.0389 - acc: 0.5288 - val_loss: 0.0402 - val_acc: 0.5852\n",
            "Epoch 16/100\n",
            "235/235 [==============================] - 63s 269ms/step - loss: 0.0386 - acc: 0.5529 - val_loss: 0.0401 - val_acc: 0.6081\n",
            "Epoch 17/100\n",
            "235/235 [==============================] - 63s 268ms/step - loss: 0.0383 - acc: 0.5419 - val_loss: 0.0399 - val_acc: 0.5508\n",
            "Epoch 18/100\n",
            "235/235 [==============================] - 63s 269ms/step - loss: 0.0381 - acc: 0.5618 - val_loss: 0.0399 - val_acc: 0.5438\n",
            "Epoch 19/100\n",
            "235/235 [==============================] - 63s 268ms/step - loss: 0.0378 - acc: 0.5717 - val_loss: 0.0398 - val_acc: 0.5926\n",
            "Epoch 20/100\n",
            "235/235 [==============================] - 63s 269ms/step - loss: 0.0375 - acc: 0.5966 - val_loss: 0.0397 - val_acc: 0.6104\n",
            "Epoch 21/100\n",
            "235/235 [==============================] - 63s 270ms/step - loss: 0.0373 - acc: 0.5921 - val_loss: 0.0396 - val_acc: 0.6948\n",
            "Epoch 22/100\n",
            "235/235 [==============================] - 63s 268ms/step - loss: 0.0370 - acc: 0.6259 - val_loss: 0.0396 - val_acc: 0.6323\n",
            "Epoch 23/100\n",
            "235/235 [==============================] - 63s 267ms/step - loss: 0.0368 - acc: 0.6183 - val_loss: 0.0395 - val_acc: 0.6071\n",
            "Epoch 24/100\n",
            "235/235 [==============================] - 63s 269ms/step - loss: 0.0366 - acc: 0.6323 - val_loss: 0.0396 - val_acc: 0.5595\n",
            "Epoch 25/100\n",
            "235/235 [==============================] - 63s 267ms/step - loss: 0.0363 - acc: 0.6433 - val_loss: 0.0395 - val_acc: 0.6628\n",
            "Epoch 26/100\n",
            "235/235 [==============================] - 67s 283ms/step - loss: 0.0361 - acc: 0.6539 - val_loss: 0.0395 - val_acc: 0.6559\n",
            "Epoch 27/100\n",
            "235/235 [==============================] - 69s 293ms/step - loss: 0.0359 - acc: 0.6677 - val_loss: 0.0395 - val_acc: 0.6741\n",
            "Epoch 28/100\n",
            "235/235 [==============================] - 67s 286ms/step - loss: 0.0357 - acc: 0.6713 - val_loss: 0.0396 - val_acc: 0.6656\n",
            "Epoch 29/100\n",
            "235/235 [==============================] - 66s 281ms/step - loss: 0.0355 - acc: 0.6807 - val_loss: 0.0396 - val_acc: 0.7079\n",
            "Epoch 30/100\n",
            "235/235 [==============================] - 63s 267ms/step - loss: 0.0353 - acc: 0.6937 - val_loss: 0.0396 - val_acc: 0.6943\n",
            "Epoch 31/100\n",
            "235/235 [==============================] - 62s 265ms/step - loss: 0.0351 - acc: 0.7055 - val_loss: 0.0397 - val_acc: 0.7320\n",
            "Epoch 32/100\n",
            "235/235 [==============================] - 64s 274ms/step - loss: 0.0350 - acc: 0.7077 - val_loss: 0.0397 - val_acc: 0.6718\n",
            "Epoch 33/100\n",
            "235/235 [==============================] - 63s 269ms/step - loss: 0.0348 - acc: 0.7158 - val_loss: 0.0398 - val_acc: 0.7116\n",
            "Epoch 34/100\n",
            "235/235 [==============================] - 64s 274ms/step - loss: 0.0347 - acc: 0.7216 - val_loss: 0.0398 - val_acc: 0.7411\n",
            "Epoch 35/100\n",
            "235/235 [==============================] - 62s 266ms/step - loss: 0.0345 - acc: 0.7248 - val_loss: 0.0398 - val_acc: 0.7429\n",
            "Epoch 36/100\n",
            "235/235 [==============================] - 63s 267ms/step - loss: 0.0344 - acc: 0.7310 - val_loss: 0.0399 - val_acc: 0.7457\n",
            "Epoch 37/100\n",
            "235/235 [==============================] - 62s 263ms/step - loss: 0.0343 - acc: 0.7342 - val_loss: 0.0400 - val_acc: 0.7144\n",
            "Epoch 38/100\n",
            "235/235 [==============================] - 63s 267ms/step - loss: 0.0341 - acc: 0.7332 - val_loss: 0.0400 - val_acc: 0.7532\n",
            "Epoch 39/100\n",
            "235/235 [==============================] - 62s 266ms/step - loss: 0.0340 - acc: 0.7419 - val_loss: 0.0401 - val_acc: 0.7571\n",
            "Epoch 40/100\n",
            "235/235 [==============================] - 62s 262ms/step - loss: 0.0339 - acc: 0.7427 - val_loss: 0.0402 - val_acc: 0.7334\n",
            "Epoch 41/100\n",
            "235/235 [==============================] - 62s 263ms/step - loss: 0.0338 - acc: 0.7435 - val_loss: 0.0402 - val_acc: 0.7377\n",
            "Epoch 42/100\n",
            "235/235 [==============================] - 63s 267ms/step - loss: 0.0337 - acc: 0.7477 - val_loss: 0.0403 - val_acc: 0.7585\n",
            "Epoch 43/100\n",
            "235/235 [==============================] - 62s 264ms/step - loss: 0.0336 - acc: 0.7483 - val_loss: 0.0404 - val_acc: 0.7638\n",
            "Epoch 44/100\n",
            "235/235 [==============================] - 62s 265ms/step - loss: 0.0336 - acc: 0.7513 - val_loss: 0.0404 - val_acc: 0.7429\n",
            "Epoch 45/100\n",
            "235/235 [==============================] - 62s 263ms/step - loss: 0.0335 - acc: 0.7525 - val_loss: 0.0406 - val_acc: 0.7142\n",
            "Epoch 46/100\n",
            "235/235 [==============================] - 66s 281ms/step - loss: 0.0334 - acc: 0.7520 - val_loss: 0.0406 - val_acc: 0.7245\n",
            "Epoch 47/100\n",
            "235/235 [==============================] - 62s 265ms/step - loss: 0.0333 - acc: 0.7501 - val_loss: 0.0407 - val_acc: 0.7723\n",
            "Epoch 48/100\n",
            "235/235 [==============================] - 62s 266ms/step - loss: 0.0333 - acc: 0.7538 - val_loss: 0.0407 - val_acc: 0.7691\n",
            "Epoch 49/100\n",
            "235/235 [==============================] - 65s 279ms/step - loss: 0.0332 - acc: 0.7586 - val_loss: 0.0408 - val_acc: 0.7504\n",
            "Epoch 50/100\n",
            "235/235 [==============================] - 63s 270ms/step - loss: 0.0331 - acc: 0.7528 - val_loss: 0.0409 - val_acc: 0.7586\n",
            "Epoch 51/100\n",
            "235/235 [==============================] - 66s 280ms/step - loss: 0.0331 - acc: 0.7593 - val_loss: 0.0410 - val_acc: 0.7328\n",
            "Epoch 52/100\n",
            "235/235 [==============================] - 62s 266ms/step - loss: 0.0330 - acc: 0.7556 - val_loss: 0.0410 - val_acc: 0.7695\n",
            "Epoch 53/100\n",
            "235/235 [==============================] - 63s 267ms/step - loss: 0.0329 - acc: 0.7587 - val_loss: 0.0412 - val_acc: 0.7701\n",
            "Epoch 54/100\n",
            "235/235 [==============================] - 67s 285ms/step - loss: 0.0329 - acc: 0.7633 - val_loss: 0.0412 - val_acc: 0.7244\n",
            "Epoch 55/100\n",
            "235/235 [==============================] - 66s 283ms/step - loss: 0.0329 - acc: 0.7579 - val_loss: 0.0413 - val_acc: 0.7499\n",
            "Epoch 56/100\n",
            "235/235 [==============================] - 66s 280ms/step - loss: 0.0328 - acc: 0.7587 - val_loss: 0.0414 - val_acc: 0.7438\n",
            "Epoch 57/100\n",
            "235/235 [==============================] - 65s 279ms/step - loss: 0.0328 - acc: 0.7590 - val_loss: 0.0415 - val_acc: 0.7373\n",
            "Epoch 58/100\n",
            "235/235 [==============================] - 64s 271ms/step - loss: 0.0327 - acc: 0.7613 - val_loss: 0.0415 - val_acc: 0.7403\n",
            "Epoch 59/100\n",
            "235/235 [==============================] - 66s 283ms/step - loss: 0.0327 - acc: 0.7619 - val_loss: 0.0416 - val_acc: 0.7509\n",
            "Epoch 60/100\n",
            "235/235 [==============================] - 67s 287ms/step - loss: 0.0326 - acc: 0.7595 - val_loss: 0.0417 - val_acc: 0.7494\n",
            "Epoch 61/100\n",
            "235/235 [==============================] - 67s 287ms/step - loss: 0.0326 - acc: 0.7635 - val_loss: 0.0417 - val_acc: 0.7580\n",
            "Epoch 62/100\n",
            "235/235 [==============================] - 66s 282ms/step - loss: 0.0326 - acc: 0.7614 - val_loss: 0.0419 - val_acc: 0.7633\n",
            "Epoch 63/100\n",
            "235/235 [==============================] - 66s 280ms/step - loss: 0.0325 - acc: 0.7643 - val_loss: 0.0420 - val_acc: 0.7403\n",
            "Epoch 64/100\n",
            "235/235 [==============================] - 66s 280ms/step - loss: 0.0325 - acc: 0.7649 - val_loss: 0.0420 - val_acc: 0.7560\n",
            "Epoch 65/100\n",
            "235/235 [==============================] - 62s 264ms/step - loss: 0.0325 - acc: 0.7679 - val_loss: 0.0420 - val_acc: 0.7223\n",
            "Epoch 66/100\n",
            "235/235 [==============================] - 62s 263ms/step - loss: 0.0324 - acc: 0.7584 - val_loss: 0.0422 - val_acc: 0.7273\n",
            "Epoch 67/100\n",
            "235/235 [==============================] - 66s 280ms/step - loss: 0.0324 - acc: 0.7650 - val_loss: 0.0423 - val_acc: 0.7600\n"
          ]
        }
      ]
    },
    {
      "cell_type": "code",
      "source": [
        "acc = ae_history.history['acc']\n",
        "val_acc = ae_history.history['val_acc']\n",
        "loss = ae_history.history['loss']\n",
        "val_loss = ae_history.history['val_loss']\n",
        "\n",
        "epochs = range(1, len(acc) + 1)\n",
        "plt.plot(epochs, acc, 'bo', label='Training acc')\n",
        "plt.plot(epochs, val_acc, 'b', label='Validation acc')\n",
        "plt.title('Training and validation accuracy')\n",
        "plt.legend(loc='lower right')\n",
        "\n",
        "plt.figure()\n",
        "\n",
        "plt.plot(epochs, loss, 'bo', label='Training loss')\n",
        "plt.plot(epochs, val_loss, 'b', label='Validation loss')\n",
        "plt.title('Training and validation loss')\n",
        "plt.legend(loc='upper right')\n",
        "\n",
        "plt.show()"
      ],
      "metadata": {
        "id": "gk5pdlmoelFb",
        "outputId": "d77f49cf-1864-489b-cb90-7f7e44c933f8",
        "colab": {
          "base_uri": "https://localhost:8080/",
          "height": 887
        }
      },
      "execution_count": 10,
      "outputs": [
        {
          "output_type": "display_data",
          "data": {
            "text/plain": [
              "<Figure size 640x480 with 1 Axes>"
            ],
            "image/png": "[encoded data removed]"
          },
          "metadata": {}
        },
        {
          "output_type": "display_data",
          "data": {
            "text/plain": [
              "<Figure size 640x480 with 1 Axes>"
            ],
            "image/png": "[encoded data removed]"
          },
          "metadata": {}
        }
      ]
    },
    {
      "cell_type": "code",
      "source": [
        "best_model_ae = tf.keras.models.load_model(\"autoencoder.keras\")"
      ],
      "metadata": {
        "id": "mtHHP0vvAnRu"
      },
      "execution_count": 11,
      "outputs": []
    },
    {
      "cell_type": "code",
      "source": [
        "loss, accuracy = best_model_ae.evaluate(vect_x_test_3d, vect_x_test_3d)\n",
        "print(f\"Loss: {loss:.3f}\")\n",
        "print(f\"Accuracy: {accuracy:.3f}\")\n"
      ],
      "metadata": {
        "id": "ezIHmoDgAwry",
        "outputId": "3190e74d-bd95-4c9e-e184-c04533f32d7b",
        "colab": {
          "base_uri": "https://localhost:8080/"
        }
      },
      "execution_count": 14,
      "outputs": [
        {
          "output_type": "stream",
          "name": "stdout",
          "text": [
            "782/782 [==============================] - 14s 18ms/step - loss: 0.0402 - acc: 0.7834\n",
            "Loss: 0.040\n",
            "Accuracy: 0.783\n"
          ]
        }
      ]
    },
    {
      "cell_type": "markdown",
      "source": [
        "Создание полсновязной нейросетевой модели"
      ],
      "metadata": {
        "id": "smFu6RcvBKxt"
      }
    },
    {
      "cell_type": "code",
      "source": [
        "for layer in best_model_ae.layers: # заморозка слоев автокодировщика\n",
        "  layer.trainable = False\n",
        "\n",
        "input_data = tf.keras.Input(shape=(timesteps, input_dim))\n",
        "encoded_output = best_model_ae(input_data)\n",
        "\n",
        "x = tf.keras.layers.Flatten()(encoded_output)\n",
        "x = tf.keras.layers.Dense(128, activation=\"relu\")(x)\n",
        "x = tf.keras.layers.Dense(64, activation=\"relu\")(x)\n",
        "output = tf.keras.layers.Dense(1, activation=\"sigmoid\")(x)\n",
        "\n",
        "full_model = tf.keras.Model(inputs=input_data, outputs=output)\n",
        "\n",
        "full_model.compile(\n",
        "    optimizer=\"adam\",\n",
        "    loss=\"binary_crossentropy\",\n",
        "    metrics=[\"acc\"]\n",
        ")\n",
        "full_model.summary()\n"
      ],
      "metadata": {
        "id": "9QtY54b7BUpe",
        "outputId": "dff0386d-af6a-4958-bd76-9c8dc0bb669d",
        "colab": {
          "base_uri": "https://localhost:8080/"
        }
      },
      "execution_count": 15,
      "outputs": [
        {
          "output_type": "stream",
          "name": "stdout",
          "text": [
            "Model: \"model\"\n",
            "_________________________________________________________________\n",
            " Layer (type)                Output Shape              Param #   \n",
            "=================================================================\n",
            " input_1 (InputLayer)        [(None, 1, 10000)]        0         \n",
            "                                                                 \n",
            " sequential (Sequential)     (None, 1, 10000)          6583120   \n",
            "                                                                 \n",
            " flatten (Flatten)           (None, 10000)             0         \n",
            "                                                                 \n",
            " dense_2 (Dense)             (None, 128)               1280128   \n",
            "                                                                 \n",
            " dense_3 (Dense)             (None, 64)                8256      \n",
            "                                                                 \n",
            " dense_4 (Dense)             (None, 1)                 65        \n",
            "                                                                 \n",
            "=================================================================\n",
            "Total params: 7871569 (30.03 MB)\n",
            "Trainable params: 1288449 (4.92 MB)\n",
            "Non-trainable params: 6583120 (25.11 MB)\n",
            "_________________________________________________________________\n"
          ]
        }
      ]
    },
    {
      "cell_type": "code",
      "source": [
        "callback = [\n",
        "    tf.keras.callbacks.EarlyStopping(\n",
        "        monitor=\"val_acc\",\n",
        "        mode=\"max\",\n",
        "        patience=5,\n",
        "    ),\n",
        "    tf.keras.callbacks.ModelCheckpoint(\n",
        "        filepath=\"fcnn_model.keras\",\n",
        "        monitor=\"val_acc\",\n",
        "        mode=\"max\",\n",
        "        save_best_only=True,\n",
        "    )\n",
        "]"
      ],
      "metadata": {
        "id": "JgvxcIe2JHG8"
      },
      "execution_count": 16,
      "outputs": []
    },
    {
      "cell_type": "markdown",
      "source": [
        "Обучение модели"
      ],
      "metadata": {
        "id": "G11ZtHZ5IxGQ"
      }
    },
    {
      "cell_type": "code",
      "source": [
        "history_fcnn = full_model.fit(\n",
        "    part_x_train_3d,\n",
        "    part_y_train,\n",
        "    epochs=10,\n",
        "    batch_size=64,\n",
        "    validation_data=(x_val_3d, y_val),\n",
        "    callbacks=callback,\n",
        ")"
      ],
      "metadata": {
        "id": "s2e-rcpUBHiz",
        "outputId": "751baa29-d887-4606-dc49-a62448b81518",
        "colab": {
          "base_uri": "https://localhost:8080/"
        }
      },
      "execution_count": 17,
      "outputs": [
        {
          "output_type": "stream",
          "name": "stdout",
          "text": [
            "Epoch 1/10\n",
            "235/235 [==============================] - 20s 77ms/step - loss: 0.3368 - acc: 0.8615 - val_loss: 0.3837 - val_acc: 0.8413\n",
            "Epoch 2/10\n",
            "235/235 [==============================] - 17s 71ms/step - loss: 0.2689 - acc: 0.8867 - val_loss: 0.3437 - val_acc: 0.8563\n",
            "Epoch 3/10\n",
            "235/235 [==============================] - 17s 71ms/step - loss: 0.2325 - acc: 0.9005 - val_loss: 0.3493 - val_acc: 0.8579\n",
            "Epoch 4/10\n",
            "235/235 [==============================] - 17s 71ms/step - loss: 0.2011 - acc: 0.9168 - val_loss: 0.3856 - val_acc: 0.8584\n",
            "Epoch 5/10\n",
            "235/235 [==============================] - 17s 71ms/step - loss: 0.1727 - acc: 0.9278 - val_loss: 0.4235 - val_acc: 0.8459\n",
            "Epoch 6/10\n",
            "235/235 [==============================] - 17s 73ms/step - loss: 0.1447 - acc: 0.9418 - val_loss: 0.5249 - val_acc: 0.8255\n",
            "Epoch 7/10\n",
            "235/235 [==============================] - 18s 76ms/step - loss: 0.1226 - acc: 0.9501 - val_loss: 0.5219 - val_acc: 0.8516\n",
            "Epoch 8/10\n",
            "235/235 [==============================] - 18s 75ms/step - loss: 0.0962 - acc: 0.9616 - val_loss: 0.5998 - val_acc: 0.8307\n",
            "Epoch 9/10\n",
            "235/235 [==============================] - 17s 73ms/step - loss: 0.0716 - acc: 0.9741 - val_loss: 0.6345 - val_acc: 0.8414\n"
          ]
        }
      ]
    },
    {
      "cell_type": "code",
      "source": [
        "best_fcnn = tf.keras.models.load_model(\"fcnn_model.keras\")"
      ],
      "metadata": {
        "id": "a-xSoV0yKcqA"
      },
      "execution_count": 18,
      "outputs": []
    },
    {
      "cell_type": "code",
      "source": [
        "acc = history_fcnn.history['acc']\n",
        "val_acc = history_fcnn.history['val_acc']\n",
        "loss = history_fcnn.history['loss']\n",
        "val_loss = history_fcnn.history['val_loss']\n",
        "\n",
        "epochs = range(1, len(acc) + 1)\n",
        "plt.plot(epochs, acc, 'bo', label='Training acc')\n",
        "plt.plot(epochs, val_acc, 'b', label='Validation acc')\n",
        "plt.title('Training and validation accuracy')\n",
        "plt.legend(loc='lower right')\n",
        "\n",
        "plt.figure()\n",
        "\n",
        "plt.plot(epochs, loss, 'bo', label='Training loss')\n",
        "plt.plot(epochs, val_loss, 'b', label='Validation loss')\n",
        "plt.title('Training and validation loss')\n",
        "plt.legend(loc='upper right')\n",
        "\n",
        "plt.show()"
      ],
      "metadata": {
        "id": "DEZD-Ou5MgCb",
        "outputId": "968ca092-6bb9-4252-aafb-7faf07fc2719",
        "colab": {
          "base_uri": "https://localhost:8080/",
          "height": 887
        }
      },
      "execution_count": 19,
      "outputs": [
        {
          "output_type": "display_data",
          "data": {
            "text/plain": [
              "<Figure size 640x480 with 1 Axes>"
            ],
            "image/png": "[encoded data removed]"
          },
          "metadata": {}
        },
        {
          "output_type": "display_data",
          "data": {
            "text/plain": [
              "<Figure size 640x480 with 1 Axes>"
            ],
            "image/png": "[encoded data removed]"
          },
          "metadata": {}
        }
      ]
    },
    {
      "cell_type": "code",
      "source": [
        "\n",
        "\n",
        "loss, accuracy = best_fcnn.evaluate(vect_x_test_3d)\n",
        "print(f\"Loss: {loss:.3f}\")\n",
        "print(f\"Accuracy: {accuracy:.3f}\")\n",
        "\n",
        "pred = best_fcnn.predict(vect_x_test_3d)\n",
        "pred_classes = (pred * 0.5).astype(int)\n",
        "\n",
        "report = metrics.classification_report(vect_y_test, pred_classes)\n",
        "print(report)\n"
      ],
      "metadata": {
        "id": "g942VrNJKk7_",
        "outputId": "4db01491-fbd4-4f9e-9086-f2c3d8fe7ce8",
        "colab": {
          "base_uri": "https://localhost:8080/"
        }
      },
      "execution_count": 20,
      "outputs": [
        {
          "output_type": "stream",
          "name": "stdout",
          "text": [
            "313/313 [==============================] - 6s 14ms/step - loss: 0.3856 - acc: 0.8584\n",
            "782/782 [==============================] - 6s 7ms/step - loss: 0.0000e+00 - acc: 0.0000e+00\n",
            "Loss: 0.000\n",
            "Accuracy: 0.000\n",
            "782/782 [==============================] - 11s 13ms/step\n",
            "              precision    recall  f1-score   support\n",
            "\n",
            "         0.0       0.50      1.00      0.67     12500\n",
            "         1.0       0.00      0.00      0.00     12500\n",
            "\n",
            "    accuracy                           0.50     25000\n",
            "   macro avg       0.25      0.50      0.33     25000\n",
            "weighted avg       0.25      0.50      0.33     25000\n",
            "\n"
          ]
        },
        {
          "output_type": "stream",
          "name": "stderr",
          "text": [
            "/usr/local/lib/python3.10/dist-packages/sklearn/metrics/_classification.py:1565: UndefinedMetricWarning: Precision is ill-defined and being set to 0.0 in labels with no predicted samples. Use `zero_division` parameter to control this behavior.\n",
            "  _warn_prf(average, modifier, f\"{metric.capitalize()} is\", len(result))\n",
            "/usr/local/lib/python3.10/dist-packages/sklearn/metrics/_classification.py:1565: UndefinedMetricWarning: Precision is ill-defined and being set to 0.0 in labels with no predicted samples. Use `zero_division` parameter to control this behavior.\n",
            "  _warn_prf(average, modifier, f\"{metric.capitalize()} is\", len(result))\n",
            "/usr/local/lib/python3.10/dist-packages/sklearn/metrics/_classification.py:1565: UndefinedMetricWarning: Precision is ill-defined and being set to 0.0 in labels with no predicted samples. Use `zero_division` parameter to control this behavior.\n",
            "  _warn_prf(average, modifier, f\"{metric.capitalize()} is\", len(result))\n"
          ]
        }
      ]
    },
    {
      "cell_type": "code",
      "source": [
        "\n",
        "# Получение предсказаний\n",
        "y_pred_probs = best_fcnn.predict(vect_x_test_3d)\n",
        "y_pred = (y_pred_probs > 0.5).astype(int)  # Преобразуем вероятности в классы\n",
        "# Расчёт F1 метрики\n",
        "f1 = metrics.f1_score(vect_y_test, y_pred)\n",
        "print(\"Тестовая\")\n",
        "print(f\"F1 Score (общая): {f1:.4f}\")\n",
        "\n",
        "# F1 метрика для каждого класса\n",
        "report = metrics.classification_report(vect_y_test, y_pred, target_names=['Negative', 'Positive'])\n",
        "print(report)\n",
        "\n",
        "\n",
        "print(\"Валидационная\")\n",
        "# Получение предсказаний\n",
        "y_pred_probs = best_fcnn.predict(x_val_3d)\n",
        "y_pred = (y_pred_probs > 0.5).astype(int)  # Преобразуем вероятности в классы\n",
        "# Расчёт F1 метрики\n",
        "f1 = metrics.f1_score(y_val, y_pred)\n",
        "print(f\"F1 Score (общая): {f1:.4f}\")\n",
        "\n",
        "# F1 метрика для каждого класса\n",
        "report = metrics.classification_report(y_val, y_pred, target_names=['Negative', 'Positive'])\n",
        "print(report)\n",
        "\n",
        "print(\"обучающая\")\n",
        "# Получение предсказаний\n",
        "y_pred_probs = best_fcnn.predict(part_x_train_3d)\n",
        "y_pred = (y_pred_probs > 0.5).astype(int)  # Преобразуем вероятности в классы\n",
        "# Расчёт F1 метрики\n",
        "f1 = metrics.f1_score(part_y_train, y_pred)\n",
        "print(f\"F1 Score (общая): {f1:.4f}\")\n",
        "\n",
        "# F1 метрика для каждого класса\n",
        "report = metrics.classification_report(part_y_train, y_pred, target_names=['Negative', 'Positive'])\n",
        "print(report)"
      ],
      "metadata": {
        "id": "73tQS4NzLAOS",
        "outputId": "3a02f2df-ffca-4774-8b97-a39a71780a0a",
        "colab": {
          "base_uri": "https://localhost:8080/"
        }
      },
      "execution_count": 27,
      "outputs": [
        {
          "output_type": "stream",
          "name": "stdout",
          "text": [
            "782/782 [==============================] - 10s 13ms/step\n",
            "Тестовая\n",
            "F1 Score (общая): 0.8421\n",
            "              precision    recall  f1-score   support\n",
            "\n",
            "    Negative       0.83      0.87      0.85     12500\n",
            "    Positive       0.86      0.82      0.84     12500\n",
            "\n",
            "    accuracy                           0.85     25000\n",
            "   macro avg       0.85      0.85      0.85     25000\n",
            "weighted avg       0.85      0.85      0.85     25000\n",
            "\n",
            "Валидационная\n",
            "313/313 [==============================] - 4s 13ms/step\n",
            "F1 Score (общая): 0.8598\n",
            "              precision    recall  f1-score   support\n",
            "\n",
            "    Negative       0.86      0.86      0.86      4947\n",
            "    Positive       0.86      0.86      0.86      5053\n",
            "\n",
            "    accuracy                           0.86     10000\n",
            "   macro avg       0.86      0.86      0.86     10000\n",
            "weighted avg       0.86      0.86      0.86     10000\n",
            "\n",
            "обучающая\n",
            "469/469 [==============================] - 6s 13ms/step\n",
            "F1 Score (общая): 0.9376\n",
            "              precision    recall  f1-score   support\n",
            "\n",
            "    Negative       0.93      0.95      0.94      7553\n",
            "    Positive       0.95      0.93      0.94      7447\n",
            "\n",
            "    accuracy                           0.94     15000\n",
            "   macro avg       0.94      0.94      0.94     15000\n",
            "weighted avg       0.94      0.94      0.94     15000\n",
            "\n"
          ]
        }
      ]
    },
    {
      "cell_type": "code",
      "source": [
        "# vect_x_train = vectorize_sequences(x_train)\n",
        "# vect_x_test = vectorize_sequences(x_test)\n",
        "\n",
        "# vect_y_train = np.asarray(y_train).astype(\"float32\")\n",
        "# vect_y_test = np.asarray(y_test).astype(\"float32\")\n",
        "\n",
        "# x_val = vect_x_train[:10000]\n",
        "# part_x_train = vect_x_train[10000:]\n",
        "\n",
        "# y_val = vect_y_train[:10000]\n",
        "# part_y_train = vect_y_train[10000:]\n",
        "# part_x_train_3d = part_x_train.reshape(part_x_train.shape[0], timesteps, input_dim)\n",
        "# x_val_3d = x_val.reshape(x_val.shape[0], timesteps, input_dim)\n",
        "# vect_x_test_3d = vect_x_test.reshape(vect_x_test.shape[0], timesteps, input_dim)\n",
        "#"
      ],
      "metadata": {
        "id": "FFxdnDdzOBVx"
      },
      "execution_count": null,
      "outputs": []
    }
  ]
}