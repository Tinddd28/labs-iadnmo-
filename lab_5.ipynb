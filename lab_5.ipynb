{
  "nbformat": 4,
  "nbformat_minor": 0,
  "metadata": {
    "colab": {
      "provenance": [],
      "authorship_tag": "ABX9TyNUhdnqy4UmFjtfIqBjGkz9",
      "include_colab_link": true
    },
    "kernelspec": {
      "name": "python3",
      "display_name": "Python 3"
    },
    "language_info": {
      "name": "python"
    }
  },
  "cells": [
    {
      "cell_type": "markdown",
      "metadata": {
        "id": "view-in-github",
        "colab_type": "text"
      },
      "source": [
        "<a href=\"https://colab.research.google.com/github/Tinddd28/labs-iadnmo-/blob/main/lab_5.ipynb\" target=\"_parent\"><img src=\"https://colab.research.google.com/assets/colab-badge.svg\" alt=\"Open In Colab\"/></a>"
      ]
    },
    {
      "cell_type": "markdown",
      "source": [
        " **Лабораторная работа № 5 \"Классификация на основе обработки текстовой информации. Сверточные и рекуррентные нейронные сети. Полносвязные сети с предобучением и дообучением.\"**"
      ],
      "metadata": {
        "id": "Z-Rnfi-DG0G7"
      }
    },
    {
      "cell_type": "markdown",
      "source": [
        "# 1. Начало работы: импорт библиотек, подготовка данных"
      ],
      "metadata": {
        "id": "X5Y66PrAIp3a"
      }
    },
    {
      "cell_type": "markdown",
      "source": [
        "Импорт библиотек"
      ],
      "metadata": {
        "id": "FYpKJy2IIzEF"
      }
    },
    {
      "cell_type": "code",
      "execution_count": 3,
      "metadata": {
        "id": "_9V3NXalGuAt"
      },
      "outputs": [],
      "source": [
        "import numpy as np\n",
        "import tensorflow as tf\n",
        "from tensorflow.keras.datasets import imdb\n",
        "from tensorflow.keras.preprocessing import sequence\n",
        "import matplotlib.pyplot as plt"
      ]
    },
    {
      "cell_type": "markdown",
      "source": [
        "## Подготовка данных"
      ],
      "metadata": {
        "id": "A_M2b0rTIygS"
      }
    },
    {
      "cell_type": "markdown",
      "source": [
        "Получение датасета, разделение на обучающую и валидационные выборки"
      ],
      "metadata": {
        "id": "Mqf-d9-mI8BL"
      }
    },
    {
      "cell_type": "code",
      "source": [
        "(x_train, y_train), (x_test, y_test) = imdb.load_data(num_words=10000)\n",
        "# Преобразование данных к \"плоскому\" (numpy) массиву\n",
        "x_train = sequence.pad_sequences(x_train, maxlen=500)\n",
        "x_test = sequence.pad_sequences(x_test, maxlen=500)"
      ],
      "metadata": {
        "id": "6Sc2JO7PI6Uh"
      },
      "execution_count": 5,
      "outputs": []
    },
    {
      "cell_type": "markdown",
      "source": [
        "# 2. Задание № 1. Создание двунаправленной LSTM рекуррентной сети"
      ],
      "metadata": {
        "id": "SE2UpEC7KAf0"
      }
    },
    {
      "cell_type": "code",
      "source": [
        "lstm_model = tf.keras.models.Sequential([\n",
        "    tf.keras.layers.Embedding(\n",
        "        input_dim=10000,\n",
        "        output_dim=128,\n",
        "        input_length=500,\n",
        "    ),\n",
        "    tf.keras.layers.Bidirectional(\n",
        "        tf.keras.layers.LSTM(\n",
        "            units=64,\n",
        "            activation=\"relu\",\n",
        "            return_sequences=False,\n",
        "        ),\n",
        "    ),\n",
        "    tf.keras.layers.Dropout(0.4),\n",
        "\n",
        "    tf.keras.layers.Dense(\n",
        "        units=64,\n",
        "        activation=\"relu\",\n",
        "    ),\n",
        "\n",
        "    tf.keras.layers.Dropout(0.3),\n",
        "\n",
        "    tf.keras.layers.Dense(\n",
        "        units=1,\n",
        "        activation=\"sigmoid\",\n",
        "    )\n",
        "])"
      ],
      "metadata": {
        "colab": {
          "base_uri": "https://localhost:8080/"
        },
        "id": "PjVLtEBgJ_EU",
        "outputId": "9cfca900-3722-478e-b10a-be970389cb5a"
      },
      "execution_count": 19,
      "outputs": [
        {
          "output_type": "stream",
          "name": "stderr",
          "text": [
            "/usr/local/lib/python3.10/dist-packages/keras/src/layers/core/embedding.py:90: UserWarning: Argument `input_length` is deprecated. Just remove it.\n",
            "  warnings.warn(\n"
          ]
        }
      ]
    },
    {
      "cell_type": "code",
      "source": [
        "lstm_model.compile(\n",
        "    optimizer=\"adam\",\n",
        "    loss=\"binary_crossentropy\",\n",
        "    metrics=[\"accuracy\"],\n",
        ")"
      ],
      "metadata": {
        "id": "uomp0_ybN-vG"
      },
      "execution_count": 20,
      "outputs": []
    },
    {
      "cell_type": "code",
      "source": [
        "callback_lstm = [\n",
        "    tf.keras.callbacks.EarlyStopping(\n",
        "        monitor=\"val_f1_score\",\n",
        "        mode=\"max\",\n",
        "        patience=5,\n",
        "    ),\n",
        "    tf.keras.callbacks.ModelCheckpoint(\n",
        "        filepath=\"lstm_model.keras\",\n",
        "        monitor=\"val_f1_score\",\n",
        "        mode=\"max\",\n",
        "        save_best_only=True,\n",
        "    ),\n",
        "]"
      ],
      "metadata": {
        "id": "ajIkPqskO2rr"
      },
      "execution_count": 16,
      "outputs": []
    },
    {
      "cell_type": "code",
      "source": [
        "history_lstm = lstm_model.fit(\n",
        "    x_train,\n",
        "    y_train,\n",
        "    epochs=100,\n",
        "    batch_size=64,\n",
        "    validation_split=0.2,\n",
        "    callbacks=callback_lstm,\n",
        ")"
      ],
      "metadata": {
        "colab": {
          "base_uri": "https://localhost:8080/"
        },
        "id": "LOOFavZrOiCT",
        "outputId": "0eb8736e-d0e7-4467-af49-224503ed039b"
      },
      "execution_count": null,
      "outputs": [
        {
          "output_type": "stream",
          "name": "stdout",
          "text": [
            "Epoch 1/100\n",
            "\u001b[1m 38/313\u001b[0m \u001b[32m━━\u001b[0m\u001b[37m━━━━━━━━━━━━━━━━━━\u001b[0m \u001b[1m5:14\u001b[0m 1s/step - accuracy: 0.5305 - loss: 0.6927"
          ]
        }
      ]
    }
  ]
}